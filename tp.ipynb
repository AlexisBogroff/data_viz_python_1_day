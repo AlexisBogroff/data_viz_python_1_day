{
 "cells": [
  {
   "cell_type": "markdown",
   "metadata": {},
   "source": [
    "# TP"
   ]
  },
  {
   "cell_type": "markdown",
   "metadata": {},
   "source": [
    "- Non guidé: Sur jeu de données, construire des graphs cohérents\n",
    "- Guidé: créer un barplot sur telle variable\n",
    "- Très guidé: créer un histogramme en utilisation matplotlib \n",
    "- Très très guidé: créer un line plot avec seaborn en utilisant la méthode relplot"
   ]
  }
 ],
 "metadata": {
  "language_info": {
   "name": "python"
  },
  "orig_nbformat": 4
 },
 "nbformat": 4,
 "nbformat_minor": 2
}
