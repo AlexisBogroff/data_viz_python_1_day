{
 "cells": [
  {
   "cell_type": "code",
   "execution_count": 30,
   "metadata": {},
   "outputs": [],
   "source": [
    "import json\n",
    "from datetime import datetime"
   ]
  },
  {
   "cell_type": "code",
   "execution_count": 31,
   "metadata": {},
   "outputs": [],
   "source": [
    "# Define file name\n",
    "F_NAME_MAIN_INPUT = 'intro_python_exercise'\n",
    "F_NAME_POST_INPUT = 'correction'\n",
    "F_NAME_EXTENSION = '.ipynb'\n",
    "F_NAME_POST_OUTPUT = 'statement_modified'\n",
    "\n",
    "# Define pattern to match\n",
    "PATTERN = [\n",
    "    '### =====                ==== ####\\n',\n",
    "    '###       YOUR CODE HERE      ####\\n',\n",
    "    '### =====                ==== ####\\n',\n",
    "]\n",
    "\n",
    "EMPTY_ROW = ['\\n']"
   ]
  },
  {
   "cell_type": "code",
   "execution_count": 32,
   "metadata": {},
   "outputs": [],
   "source": [
    "# Load Jupyter Notebook\n",
    "F_NAME = F_NAME_MAIN_INPUT + '_' + F_NAME_POST_INPUT + F_NAME_EXTENSION\n",
    "\n",
    "with open(F_NAME, 'r') as file:\n",
    "    data = file.read()\n",
    "    \n",
    "# Translate as python dictionary\n",
    "data_json = json.loads(data)\n",
    "\n",
    "# Create a backup\n",
    "data_json_bk = data_json.copy()"
   ]
  },
  {
   "cell_type": "code",
   "execution_count": 33,
   "metadata": {},
   "outputs": [],
   "source": [
    "# Replace all code cells containing the pattern by the pattern only (thus removing additional text - answer)\n",
    "for ref, cell in enumerate(data_json['cells']):\n",
    "    if cell['cell_type'] == 'code':\n",
    "        first_row_is_similar = cell['source'][0] == PATTERN[0]\n",
    "        if first_row_is_similar:\n",
    "            # Ensure 2 other rows also contain the pattern\n",
    "            for i in range(1, 3):\n",
    "                assert(cell['source'][i] == PATTERN[i])\n",
    "\n",
    "            # Replace by the empty pattern\n",
    "            data_json['cells'][ref]['source'] = PATTERN + EMPTY_ROW"
   ]
  },
  {
   "cell_type": "code",
   "execution_count": 34,
   "metadata": {},
   "outputs": [
    {
     "data": {
      "text/plain": [
       "{'cell_type': 'code',\n",
       " 'execution_count': 7,\n",
       " 'metadata': {},\n",
       " 'outputs': [{'data': {'text/plain': [\"'12'\"]},\n",
       "   'execution_count': 7,\n",
       "   'metadata': {},\n",
       "   'output_type': 'execute_result'}],\n",
       " 'source': ['### =====                ==== ####\\n',\n",
       "  '###       YOUR CODE HERE      ####\\n',\n",
       "  '### =====                ==== ####\\n',\n",
       "  '\\n']}"
      ]
     },
     "execution_count": 34,
     "metadata": {},
     "output_type": "execute_result"
    }
   ],
   "source": [
    "# Check it worked\n",
    "data_json['cells'][13]"
   ]
  },
  {
   "cell_type": "code",
   "execution_count": 35,
   "metadata": {},
   "outputs": [],
   "source": [
    "# Export statement version as new Jupyter Notebook\n",
    "timestamp = datetime.now().strftime(\"%Y_%m_%d_%H%M%S\")\n",
    "\n",
    "F_NAME_OUTPUT = F_NAME_MAIN_INPUT + '_' + F_NAME_POST_OUTPUT + '_' + timestamp + F_NAME_EXTENSION\n",
    "\n",
    "# Export ipynb\n",
    "with open(f'{F_NAME_OUTPUT}', 'w') as json_file:\n",
    "  json.dump(data_json, json_file)"
   ]
  }
 ],
 "metadata": {
  "interpreter": {
   "hash": "3e74358760790ee203734cf82a8145858ee0b285e8616beddc0cb417b8455e70"
  },
  "kernelspec": {
   "display_name": "Python 3.9.12 ('eda')",
   "language": "python",
   "name": "python3"
  },
  "language_info": {
   "codemirror_mode": {
    "name": "ipython",
    "version": 3
   },
   "file_extension": ".py",
   "mimetype": "text/x-python",
   "name": "python",
   "nbconvert_exporter": "python",
   "pygments_lexer": "ipython3",
   "version": "3.9.12"
  },
  "orig_nbformat": 4
 },
 "nbformat": 4,
 "nbformat_minor": 2
}
