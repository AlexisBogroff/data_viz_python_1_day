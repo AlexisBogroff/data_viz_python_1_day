{
 "cells": [
  {
   "cell_type": "markdown",
   "metadata": {},
   "source": [
    "# Modify data from source for better exercising"
   ]
  },
  {
   "cell_type": "markdown",
   "metadata": {},
   "source": [
    "[Data is a modified version from this source](https://www.data.gouv.fr/fr/datasets/masse-salariale-et-assiette-chomage-partiel-mensuelles-du-secteur-prive/)"
   ]
  },
  {
   "cell_type": "code",
   "execution_count": 154,
   "metadata": {},
   "outputs": [],
   "source": [
    "import numpy as np\n",
    "from numpy import nan\n",
    "import pandas as pd"
   ]
  },
  {
   "cell_type": "code",
   "execution_count": 155,
   "metadata": {},
   "outputs": [],
   "source": [
    "df = pd.read_csv('masse-salariale-et-assiette-chomage-partiel-mensuelles-du-secteur-prive.csv', sep=';')"
   ]
  },
  {
   "cell_type": "markdown",
   "metadata": {},
   "source": [
    "## Delete 1 row"
   ]
  },
  {
   "cell_type": "code",
   "execution_count": 156,
   "metadata": {},
   "outputs": [
    {
     "data": {
      "text/plain": [
       "dernier_jour_du_mois                  2020-08-31\n",
       "masse_salariale_brute                46049456262\n",
       "glissement_annuel_masse_salariale      -1.796268\n",
       "assiette_chomage_partiel               842379691\n",
       "part_assiette_chomage_partiel           1.796431\n",
       "Name: 6, dtype: object"
      ]
     },
     "execution_count": 156,
     "metadata": {},
     "output_type": "execute_result"
    }
   ],
   "source": [
    "df.iloc[6]"
   ]
  },
  {
   "cell_type": "code",
   "execution_count": 157,
   "metadata": {},
   "outputs": [],
   "source": [
    "df.drop(6, inplace=True)"
   ]
  },
  {
   "cell_type": "markdown",
   "metadata": {},
   "source": [
    "## Replace some information by NaNs or zeros"
   ]
  },
  {
   "cell_type": "code",
   "execution_count": 158,
   "metadata": {},
   "outputs": [
    {
     "data": {
      "text/plain": [
       "dernier_jour_du_mois                  2018-08-31\n",
       "masse_salariale_brute                45261356311\n",
       "glissement_annuel_masse_salariale       3.456928\n",
       "assiette_chomage_partiel                41534884\n",
       "part_assiette_chomage_partiel           0.091683\n",
       "Name: 15, dtype: object"
      ]
     },
     "execution_count": 158,
     "metadata": {},
     "output_type": "execute_result"
    }
   ],
   "source": [
    "df.iloc[14]"
   ]
  },
  {
   "cell_type": "code",
   "execution_count": 159,
   "metadata": {},
   "outputs": [],
   "source": [
    "# Nanize\n",
    "df.loc[14, 'masse_salariale_brute'] = nan"
   ]
  },
  {
   "cell_type": "code",
   "execution_count": 160,
   "metadata": {},
   "outputs": [
    {
     "data": {
      "text/plain": [
       "dernier_jour_du_mois                    2019-05-31\n",
       "masse_salariale_brute                48333602998.0\n",
       "glissement_annuel_masse_salariale         3.343921\n",
       "assiette_chomage_partiel                  51194024\n",
       "part_assiette_chomage_partiel             0.105806\n",
       "Name: 40, dtype: object"
      ]
     },
     "execution_count": 160,
     "metadata": {},
     "output_type": "execute_result"
    }
   ],
   "source": [
    "df.loc[40]"
   ]
  },
  {
   "cell_type": "code",
   "execution_count": 161,
   "metadata": {},
   "outputs": [],
   "source": [
    "# Nanize\n",
    "df.loc[40, 'glissement_annuel_masse_salariale'] = nan"
   ]
  },
  {
   "cell_type": "code",
   "execution_count": 162,
   "metadata": {},
   "outputs": [],
   "source": [
    "# Add zeros randomly in assiette_chomage_partiel\n",
    "mask_to_add_zeros = np.random.randint(0, 2, df.shape[0])\n",
    "df['assiette_chomage_partiel'] = df['assiette_chomage_partiel'] * mask_to_add_zeros"
   ]
  },
  {
   "cell_type": "markdown",
   "metadata": {},
   "source": [
    "## Transform into simpler problem by adding boudaries to extreme values"
   ]
  },
  {
   "cell_type": "code",
   "execution_count": 163,
   "metadata": {},
   "outputs": [],
   "source": [
    "ma_extreme_up = df['masse_salariale_brute'] > 5.5e10\n",
    "df.loc[ma_extreme_up, 'masse_salariale_brute'] = 5"
   ]
  },
  {
   "cell_type": "code",
   "execution_count": 164,
   "metadata": {},
   "outputs": [],
   "source": [
    "ma_extreme_low = df['masse_salariale_brute'] < 4.5e10\n",
    "df.loc[ma_extreme_low, 'masse_salariale_brute'] = 4.6"
   ]
  },
  {
   "cell_type": "markdown",
   "metadata": {},
   "source": [
    "## Add 1 clear outlier"
   ]
  },
  {
   "cell_type": "code",
   "execution_count": 165,
   "metadata": {},
   "outputs": [],
   "source": [
    "df.loc[16, 'masse_salariale_brute'] = 5e11"
   ]
  },
  {
   "cell_type": "markdown",
   "metadata": {},
   "source": [
    "## Export data"
   ]
  },
  {
   "cell_type": "code",
   "execution_count": 166,
   "metadata": {},
   "outputs": [],
   "source": [
    "df.to_csv('masse-salariale-et-assiette-chomage-partiel-mensuelles-du-secteur-prive_modif.csv', index=False, sep=';')"
   ]
  }
 ],
 "metadata": {
  "interpreter": {
   "hash": "3e74358760790ee203734cf82a8145858ee0b285e8616beddc0cb417b8455e70"
  },
  "kernelspec": {
   "display_name": "Python 3.9.12 ('eda')",
   "language": "python",
   "name": "python3"
  },
  "language_info": {
   "codemirror_mode": {
    "name": "ipython",
    "version": 3
   },
   "file_extension": ".py",
   "mimetype": "text/x-python",
   "name": "python",
   "nbconvert_exporter": "python",
   "pygments_lexer": "ipython3",
   "version": "3.9.12"
  },
  "orig_nbformat": 4
 },
 "nbformat": 4,
 "nbformat_minor": 2
}
